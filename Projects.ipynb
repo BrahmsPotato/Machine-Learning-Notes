{
 "cells": [
  {
   "cell_type": "markdown",
   "metadata": {},
   "source": [
    "# 基于 Hadoop 分布式系统的用户上网行为分析预测\n",
    "\n",
    "## 规模\n",
    "- Features:  \n",
    "    1. 200-300 (网站top100, 门户网站数，视频网站数，搜索引擎数，游戏流量数，国内流量，外国流量，本地流量，前1，3，7，14，30平均流量，20个线路区域(one-hot)，用户数，时间24（1 hot），y=流量带宽G)\n",
    "    2. 100-200 根据用户每月网站top50，搜索关键字top50，门户网站数top5，视频网站数top5，搜索引擎数top5，性别，客户端，优惠，办理方式，缴费渠道游戏流量数月份12，y=是否续订\n",
    "- Dataset: \n",
    "    1. 流量：request only, 每天3-4G x 20=60-80G原始log， 24 x 20 x 365 x 3 = 525k学习的数据\n",
    "    2. 用户数据（数据库）100w * （12-24）=20m * 1k = 20G\n",
    "- Machines：16G RAM，2-4 Cores，vmware/vSphere * 9-11 (Spark/Hadoop)\n",
    "- Time: 2-3 hours algorithms, ETL 5-6 hours: \n",
    "\n",
    "sqoop/flume/oozie -> hdfs -> spark -> elasticSearch\n",
    "\n",
    "log: 用户名，时间，上线时间，客户端，link，手机/宽带的带宽，线路区域，出口区域\n",
    "用户数据：使用套餐，使用时间，性别，缴费渠道，优惠，办理方式\n",
    "\n",
    "# 基于Hadoop 分布式的视频转码集群系统\n",
    "\n",
    "## 规模\n",
    "- Machines：8G RAM，2 CPU，7 obsolete servers\n",
    "- Cloudera Hadoop: mp4 -> mkv, 压缩码率， 720P 5G 电影需要 2-3hours \n",
    "\n",
    "\n",
    "# 爱立信云平台-虚拟机弹性部署系统\n",
    "\n",
    "**input:** Fujitsu, NEC, Nokia, Ericsson logs，\n",
    "**output:** Fujitsu, NEC, Nokia， (Healing, Instantiation, Scale-in, Scale-out, Termination)， 3 * 5\n",
    "maxlen of log text 1000 words\n",
    "\n",
    "pretrained Glove wikipedia 800m, 400k vocab, 50d\n",
    "\n",
    "3,400m log, 上线几年，训练  3-4 hours\n",
    "\n",
    "\n",
    "# 爱立信车联网 - 关键字语音识别方案\n",
    "\n",
    "2000段正例， 2000反例，2-3小时背景录音"
   ]
  }
 ],
 "metadata": {
  "kernelspec": {
   "display_name": "Python 3",
   "language": "python",
   "name": "python3"
  },
  "language_info": {
   "codemirror_mode": {
    "name": "ipython",
    "version": 3
   },
   "file_extension": ".py",
   "mimetype": "text/x-python",
   "name": "python",
   "nbconvert_exporter": "python",
   "pygments_lexer": "ipython3",
   "version": "3.6.4"
  },
  "toc": {
   "base_numbering": 1,
   "nav_menu": {},
   "number_sections": false,
   "sideBar": true,
   "skip_h1_title": false,
   "title_cell": "Table of Contents",
   "title_sidebar": "Contents",
   "toc_cell": false,
   "toc_position": {},
   "toc_section_display": true,
   "toc_window_display": false
  }
 },
 "nbformat": 4,
 "nbformat_minor": 2
}
